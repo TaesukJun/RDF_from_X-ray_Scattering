{
 "cells": [
  {
   "cell_type": "code",
   "execution_count": 2,
   "id": "ee357cf6",
   "metadata": {},
   "outputs": [
    {
     "data": {
      "text/plain": [
       "[1, -1/2 - sqrt(3)*I/2, -1/2 + sqrt(3)*I/2]"
      ]
     },
     "execution_count": 2,
     "metadata": {},
     "output_type": "execute_result"
    }
   ],
   "source": [
    "from sympy.solvers import solve\n",
    "from sympy import Symbol\n",
    "\n",
    "\n",
    "\n",
    "\n",
    "x = Symbol('x')\n",
    "solve(x**3 - 1, x)\n"
   ]
  },
  {
   "cell_type": "code",
   "execution_count": 3,
   "id": "e801be67",
   "metadata": {},
   "outputs": [
    {
     "name": "stdout",
     "output_type": "stream",
     "text": [
      "[100 - 2.5*a, 55.55 - 0.3*b, -c*d + 221.559, -e*f - g*h + 230.0, -c - g + 2.5, e - 0.3, d/h - 0.010648, 1.4*b - f]\n",
      "[{a: 40.0000000000000, b: 185.166666666667, c: 2.48184262210803, d: 89.2719780160000, e: 0.300000000000000, f: 259.233333333333, g: 0.0181573778919683, h: 8383.91979864763}]\n",
      "40.0000000000000\n",
      "185.166666666667\n",
      "2.48184262210803\n",
      "89.2719780160000\n",
      "0.300000000000000\n",
      "259.233333333333\n",
      "0.0181573778919683\n",
      "8383.91979864763\n"
     ]
    }
   ],
   "source": [
    "from sympy import solve, Poly, Eq, Matrix, Symbol\n",
    "from sympy.abc import x, y, z, a, b, c, d, e, f, g, h\n",
    "\n",
    "# relative count rate at 2 h compared to 0 h\n",
    "\n",
    "data = [\n",
    "    (0.3, 0.5, 1.5, 2.5), # conc list\n",
    "    (100, 100, 47.86, 15.24), # Intensity of 10 nm at 0 h\n",
    "    (55.55, 72.7, 100, 100), # Intensity of 100nm at 0 h\n",
    "    (96.33, 100, 41.355, 15.033), # Intensity of 10nm at 2 h\n",
    "    (100, 97, 100, 100),  # Intensity of 100nm at 2 h\n",
    "    (2.30, 2.02, 1.87, 1.78) # Count rate ratio compared 0 h to 2 h\n",
    "]\n",
    "\n",
    "# data by data\n",
    "conc = 0 # Please note conc list\n",
    "RP = 3 # Rayleigh Assumption of Power Constant\n",
    "Polymer2h_ratio = 1.4 # PNIPAM-PEG count rate ratio between 0 h and 2 h\n",
    "\n",
    "eq_01 = (data[1][conc] - 2.5 * a) # a = optical coef. of IgG at 0 h\n",
    "eq_02 = (data[2][conc] - data[0][conc] * b) # b = optical coef. of Polymer at 0 h\n",
    "eq_03 = (data[3][conc] * data[5][conc] - c * d) # c = wt. conc. of Non-aggregated IgG at 2 h # d = optical coef. of Non-aggregated IgG\n",
    "eq_04 = (data[4][conc] * data[5][conc] - e * f - g * h) # e = wt. conc of Polymer at 2 h # f = optical coef. of Poylmer at 2 h # g = optical coef. of Aggregated IgG at 2h # h = actvity of Aggregated IgG at 2h\n",
    "eq_05 = (2.5 - c - g)\n",
    "eq_06 = (e - data[0][conc])\n",
    "eq_07 = (d / h - 11**RP/50**RP)\n",
    "# eq_08 = (b / a - f / d)\n",
    "eq_08 = (Polymer2h_ratio * b - f)\n",
    "\n",
    "# a = optical coef. of IgG at 0 h\n",
    "# b = optical coef. of Polymer at 0 h\n",
    "# c = wt. conc. of Non-aggregated IgG at 2 h \n",
    "# d = optical coef. of Non-aggregated IgG\n",
    "# e = wt. conc. of Polymer at 2 h \n",
    "# f = optical coef. of Poylmer at 2 h \n",
    "# g = wt. conc. of Aggregated IgG at 2h \n",
    "# h = optical coef. of Aggregated IgG at 2h\n",
    "\n",
    "eqs = [eq_01, eq_02, eq_03, eq_04, eq_05, eq_06, eq_07, eq_08]\n",
    "print(eqs)\n",
    "\n",
    "answer = solve(eqs, dict=True, set=True, simplify=True)\n",
    "print(answer)\n",
    "print(answer[0][a])\n",
    "print(answer[0][b])\n",
    "print(answer[0][c])\n",
    "print(answer[0][d])\n",
    "print(answer[0][e])\n",
    "print(answer[0][f])\n",
    "print(answer[0][g])\n",
    "print(answer[0][h])\n",
    "\n"
   ]
  },
  {
   "cell_type": "code",
   "execution_count": null,
   "id": "26c77a5d",
   "metadata": {},
   "outputs": [],
   "source": []
  },
  {
   "cell_type": "code",
   "execution_count": null,
   "id": "ef215f77",
   "metadata": {},
   "outputs": [],
   "source": [
    "# solve([300 - 2.5 * a, 200 - 2.5 * b, 500 - c * d, 400 - e * f + g * h, 2.5 - c - g, e - 2.5, d / f - 27, a / b - c / e])\n"
   ]
  },
  {
   "cell_type": "code",
   "execution_count": 49,
   "id": "2eea073d",
   "metadata": {},
   "outputs": [
    {
     "name": "stdout",
     "output_type": "stream",
     "text": [
      "0.3\n"
     ]
    }
   ],
   "source": [
    "data = [\n",
    "    (0.3, 0.5, 1.5, 2.5), # conc list\n",
    "    (100, 100, 47.86, 15.84), # Intensity of 10 nm at 0 h\n",
    "    (55.55, 72.7, 100, 100), # Intensity of 100nm at 0 h\n",
    "    (55.55, 72.7, 100, 100) # Intensity of 100nm at 0 h\n",
    "    \n",
    "    \n",
    "    \n",
    "    \n",
    "    \n",
    "]\n",
    "print(data[0][0])"
   ]
  },
  {
   "cell_type": "code",
   "execution_count": null,
   "id": "27851dbf",
   "metadata": {},
   "outputs": [],
   "source": []
  },
  {
   "cell_type": "code",
   "execution_count": 50,
   "id": "31ccf3c7",
   "metadata": {},
   "outputs": [
    {
     "name": "stdout",
     "output_type": "stream",
     "text": [
      "[-2.5*a - 0.3*b + 100, -c*d - e*f + 74.24, -g*h + 232.0, -c - g + 2.5, e - 0.3, d/h - 0.010648, -1.2 + b/a, -1.2 + f/d]\n",
      "[{a: 34.9650349650350, b: 41.9580419580420, c: 2.40789818780092, d: 26.8217958041958, e: 0.300000000000000, f: 32.1861549650350, g: 0.0921018121990758, h: 2518.95152180652}]\n",
      "34.9650349650350\n",
      "41.9580419580420\n",
      "2.40789818780092\n",
      "26.8217958041958\n",
      "0.300000000000000\n",
      "32.1861549650350\n",
      "0.0921018121990758\n",
      "2518.95152180652\n"
     ]
    }
   ],
   "source": [
    "# For Tween 80 cases:\n",
    "\n",
    "from sympy import solve, Poly, Eq, Matrix, Symbol\n",
    "from sympy.abc import x, y, z, a, b, c, d, e, f, g, h\n",
    "\n",
    "# relative count rate at 2 h compared to 0 h\n",
    "\n",
    "data = [\n",
    "    (0.3, 0.5, 1.5, 2.5), # conc list for Tween 80\n",
    "    (100, 100, 100, 100), # Intensity of 10 nm at 0 h\n",
    "    (32, 54.8, 82.1, 100), # Intensity of 10nm at 2 h\n",
    "    (100, 100, 100, 52.69),  # Intensity of 100nm at 2 h\n",
    "    (2.32, 2.12, 1.95, 1.81) # Count rate ratio compared 0 h to 2 h\n",
    "]\n",
    "\n",
    "# data by data\n",
    "conc = 0 # Please note conc list\n",
    "RP = 3 # Rayleigh Assumption of Power Constant\n",
    "Tween2h_ratio = 1 # Tween 80 thermal count rate ratio between 0 h and 2 h\n",
    "Tween_IgG_ratio = 1.2\n",
    "\n",
    "eq_01 = (data[1][conc] - 2.5 * a - data[0][conc] * b) \n",
    "eq_02 = (data[2][conc] * data[4][conc] - c * d - e * f) \n",
    "eq_03 = (data[3][conc] * data[4][conc] - g * h)\n",
    "eq_04 = (2.5 - c - g)\n",
    "eq_05 = (e - data[0][conc])\n",
    "eq_06 = (d / h - 11**RP/50**RP)\n",
    "eq_07 = (b / a - Tween_IgG_ratio)\n",
    "eq_08 = (f / d - Tween_IgG_ratio)\n",
    "\n",
    "# a = optical coef. of IgG at 0 h\n",
    "# b = optical coef. of Tween 80 at 0 h\n",
    "# c = wt. conc. of Non-aggregated IgG at 2 h \n",
    "# d = optical coef. of Non-aggregated IgG at 2 h\n",
    "# e = wt. conc. of Tween 80 at 2 h \n",
    "# f = optical coef. of Tween 80 at 2 h \n",
    "# g = wt. conc. of Aggregated IgG at 2h \n",
    "# h = optical coef. of Aggregated IgG at 2h\n",
    "\n",
    "eqs = [eq_01, eq_02, eq_03, eq_04, eq_05, eq_06, eq_07, eq_08]\n",
    "print(eqs)\n",
    "\n",
    "answer = solve(eqs, dict=True, set=True, simplify=True)\n",
    "print(answer)\n",
    "print(answer[0][a])\n",
    "print(answer[0][b])\n",
    "print(answer[0][c])\n",
    "print(answer[0][d])\n",
    "print(answer[0][e])\n",
    "print(answer[0][f])\n",
    "print(answer[0][g])\n",
    "print(answer[0][h])\n",
    "\n"
   ]
  },
  {
   "cell_type": "code",
   "execution_count": null,
   "id": "131b4718",
   "metadata": {},
   "outputs": [],
   "source": []
  },
  {
   "cell_type": "code",
   "execution_count": 30,
   "id": "da4416aa",
   "metadata": {},
   "outputs": [
    {
     "name": "stdout",
     "output_type": "stream",
     "text": [
      "[-a*b + 81.651, -c*d + 255.0, -a - c + 2.5, -93.9143501126972*b + d]\n",
      "[{a: 2.41954009091788, b: 33.7464960000000, c: 0.0804599090821163, d: 3169.28024042074}]\n",
      "2.41954009091788\n",
      "33.7464960000000\n",
      "0.0804599090821163\n",
      "3169.28024042074\n"
     ]
    }
   ],
   "source": [
    "# simple case for only IgG\n",
    "from sympy import solve, Poly, Eq, Matrix, Symbol\n",
    "from sympy.abc import x, y, z, a, b, c, d, e, f, g, h\n",
    "\n",
    "eq_01 = (32.02 * 2.55 - a * b) \n",
    "eq_02 = (100 * 2.55 - c * d) \n",
    "eq_03 = (2.5 - a - c) \n",
    "eq_04 = (d - 50**3/11**3 * b) \n",
    "\n",
    "# a = wt.conc of Nonaggregated IgG at 2 h\n",
    "# b = optical coef. of Nonaggregated IgG at 2 h\n",
    "# c = wt. conc. of Aggregated IgG at 2 h \n",
    "# d = optical coef. of Aggregated IgG at 2 h\n",
    "\n",
    "eqs = [eq_01, eq_02, eq_03, eq_04]\n",
    "print(eqs)\n",
    "\n",
    "answer = solve(eqs, dict=True, set=True, simplify=True)\n",
    "print(answer)\n",
    "print(answer[0][a])\n",
    "print(answer[0][b])\n",
    "print(answer[0][c])\n",
    "print(answer[0][d])"
   ]
  },
  {
   "cell_type": "code",
   "execution_count": 1,
   "id": "35005519",
   "metadata": {},
   "outputs": [
    {
     "name": "stdout",
     "output_type": "stream",
     "text": [
      "[-a*b + 255.0, -c*d + 158.508, -a - c + 2.5, -93.9143501126972*b + d]\n",
      "[{a: 2.48356180904569, b: 102.675117273600, c: 0.0164381909543138, d: 9642.66691149511}]\n",
      "2.48356180904569\n",
      "102.675117273600\n",
      "0.0164381909543138\n",
      "9642.66691149511\n"
     ]
    }
   ],
   "source": [
    "# simple case for only IgG\n",
    "from sympy import solve, Poly, Eq, Matrix, Symbol\n",
    "from sympy.abc import x, y, z, a, b, c, d, e, f, g, h\n",
    "\n",
    "eq_01 = (100 * 2.55 - a * b) \n",
    "eq_02 = (62.16 * 2.55 - c * d) \n",
    "eq_03 = (2.5 - a - c) \n",
    "eq_04 = (d - 50**3/11**3 * b) \n",
    "\n",
    "# a = wt.conc of Nonaggregated IgG at 2 h\n",
    "# b = optical coef. of Nonaggregated IgG at 2 h\n",
    "# c = wt. conc. of Aggregated IgG at 2 h \n",
    "# d = optical coef. of Aggregated IgG at 2 h\n",
    "\n",
    "eqs = [eq_01, eq_02, eq_03, eq_04]\n",
    "print(eqs)\n",
    "\n",
    "answer = solve(eqs, dict=True, set=True, simplify=True)\n",
    "print(answer)\n",
    "print(answer[0][a])\n",
    "print(answer[0][b])\n",
    "print(answer[0][c])\n",
    "print(answer[0][d])"
   ]
  },
  {
   "cell_type": "code",
   "execution_count": null,
   "id": "a035a769",
   "metadata": {},
   "outputs": [],
   "source": []
  },
  {
   "cell_type": "code",
   "execution_count": null,
   "id": "a54853ce",
   "metadata": {},
   "outputs": [],
   "source": []
  },
  {
   "cell_type": "code",
   "execution_count": null,
   "id": "535b4565",
   "metadata": {},
   "outputs": [],
   "source": [
    "\"\"\"\n",
    "for items in answer:\n",
    "    for item in items:\n",
    "        print(item)\n",
    "        print(\"\\n\")\n",
    "\"\"\""
   ]
  },
  {
   "cell_type": "code",
   "execution_count": null,
   "id": "365b922c",
   "metadata": {},
   "outputs": [],
   "source": []
  },
  {
   "cell_type": "code",
   "execution_count": null,
   "id": "8e5d9af7",
   "metadata": {},
   "outputs": [],
   "source": []
  },
  {
   "cell_type": "code",
   "execution_count": null,
   "id": "5df57584",
   "metadata": {},
   "outputs": [],
   "source": []
  },
  {
   "cell_type": "code",
   "execution_count": null,
   "id": "a8bd6c8e",
   "metadata": {},
   "outputs": [],
   "source": [
    "# For Tween 80 cases\n",
    "\n",
    "from sympy import solve, Poly, Eq, Matrix, Symbol\n",
    "from sympy.abc import x, y, z, a, b, c, d, e, f, g, h\n",
    "\n",
    "# relative count rate at 2 h compared to 0 h\n",
    "\n",
    "data = [\n",
    "    (0.3, 0.5, 1.5, 2.5), # conc list\n",
    "    (100, 100, 47.86, 15.84), # Intensity of 10 nm at 0 h\n",
    "    (55.55, 72.7, 100, 100), # Intensity of 100nm at 0 h\n",
    "    (14.23, 41.355, 100, 96.33), # Intensity of 10nm at 2 h\n",
    "    (100, 100, 97, 100),  # Intensity of 100nm at 2 h\n",
    "    (2.30, 2.02, 1.87, 1.78) # Count rate ratio compared 0 h to 2 h\n",
    "]\n",
    "\n",
    "\n",
    "\n",
    "\n",
    "eq_01 = (100- 2.5 * a) # a = optical coef. of IgG at 0 h\n",
    "eq_02 = (55.55 - Pconc * b) # b = optical coef. of Polymer at 0 h\n",
    "eq_03 = (96.33 * Amp - c * d) # c = wt. conc. of Non-aggregated IgG at 2 h # d = optical coef. of Non-aggregated IgG\n",
    "eq_04 = (100 * Amp - e * f - g * h) # e = wt. conc of Polymer at 2 h # f = optical coef. of Poylmer at 2 h # g = optical coef. of Aggregated IgG at 2h # h = actvity of Aggregated IgG at 2h\n",
    "eq_05 = (2.5 - c - g)\n",
    "eq_06 = (e - Pconc)\n",
    "eq_07 = (d / f - 50**3/11**3)\n",
    "eq_08 = (a / b - c / e)\n",
    "\n",
    "# a = optical coef. of IgG at 0 h\n",
    "# b = optical coef. of Polymer at 0 h\n",
    "# c = wt. conc. of Non-aggregated IgG at 2 h \n",
    "# d = optical coef. of Non-aggregated IgG\n",
    "# e = wt. conc. of Polymer at 2 h \n",
    "# f = optical coef. of Poylmer at 2 h \n",
    "# g = wt. conc. of Aggregated IgG at 2h \n",
    "# h = optical coef. of Aggregated IgG at 2h\n",
    "\n",
    "eqs = [eq_01, eq_02, eq_03, eq_04, eq_05, eq_06, eq_07, eq_08]\n",
    "print(eqs)\n",
    "\n",
    "answer = solve(eqs, dict=True, set=True, simplify=True)\n",
    "print(answer)\n",
    "print(answer[0][a])\n",
    "print(answer[0][b])\n",
    "print(answer[0][c])\n",
    "print(answer[0][d])\n",
    "print(answer[0][e])\n",
    "print(answer[0][f])\n",
    "print(answer[0][g])\n",
    "print(answer[0][h])\n",
    "\n",
    "\n",
    "\n",
    "\n"
   ]
  },
  {
   "cell_type": "code",
   "execution_count": null,
   "id": "39e66f4b",
   "metadata": {},
   "outputs": [],
   "source": []
  },
  {
   "cell_type": "code",
   "execution_count": null,
   "id": "f04e5778",
   "metadata": {},
   "outputs": [],
   "source": [
    "from sympy import solve, Poly, Eq, Matrix, Symbol\n",
    "from sympy.abc import x, y, z, a, b, c, d, e, f, g, h\n",
    "\n",
    "#solve([x + y - 3, y**2 + x - 1])\n",
    "\n",
    "# relative count rate at 2 h compared to 0 h\n",
    "Amp = 1.78\n",
    "    # 2.30 for 0.3 mg/ml Polymer\n",
    "    # 2.02 for 0.5 mg/ml\n",
    "    # 1.87 for 1.5 mg/ml\n",
    "    # 1.78 for 2.5 mg/ml\n",
    "\n",
    "\n",
    "eq_01 = (15.8 - 2.5 * a) # a = activity of IgG at 0 h\n",
    "eq_02 = (100 - 2.5 * b) # b = activity of Polymer at 0 h\n",
    "eq_03 = (14.2 * Amp - c * d) # c = wt. conc. of Non-aggregated IgG at 2 h # d = activity of Non-aggregated IgG\n",
    "eq_04 = (100 * Amp - e * f + g * h) # e = wt. conc of Polymer at 2 h # f = activity of Poylmer at 2 h # g = activity of Aggregated IgG at 2h # h = actvity of Aggregated IgG at 2h\n",
    "eq_05 = (2.5 - c - g)\n",
    "eq_06 = (e - 2.5)\n",
    "eq_07 = (d / f - 50**3/11**3)\n",
    "eq_08 = (a / b - c / e)\n",
    "\n",
    "# a = activity of IgG at 0 h\n",
    "# b = activity of Polymer at 0 h\n",
    "# c = wt. conc. of Non-aggregated IgG at 2 h \n",
    "# d = activity of Non-aggregated IgG\n",
    "# e = wt. conc. of Polymer at 2 h \n",
    "# f = activity of Poylmer at 2 h \n",
    "# g = wt. conc. of Aggregated IgG at 2h \n",
    "# h = actvity of Aggregated IgG at 2h\n",
    "\n",
    "eqs = [eq_01, eq_02, eq_03, eq_04, eq_05, eq_06, eq_07, eq_08]\n",
    "print(eq)\n",
    "\n",
    "solve(eqs)\n",
    "# solve([300 - 2.5 * a, 200 - 2.5 * b, 500 - c * d, 400 - e * f + g * h, 2.5 - c - g, e - 2.5, d / f - 27, a / b - c / e])\n",
    "\n"
   ]
  },
  {
   "cell_type": "code",
   "execution_count": 7,
   "id": "444325fd",
   "metadata": {},
   "outputs": [
    {
     "name": "stdout",
     "output_type": "stream",
     "text": [
      "Case conc: 0.300000\n",
      "[100 - 2.5*a, 55.55 - 0.3*b, -c*d + 221.559, -e*f - g*h + 230.0, -c - g + 2.5, e - 0.3, d/h - 0.010648, 1.4*b - f]\n",
      "[{a: 40.0000000000000, b: 185.166666666667, c: 2.48184262210803, d: 89.2719780160000, e: 0.300000000000000, f: 259.233333333333, g: 0.0181573778919683, h: 8383.91979864763}]\n",
      "40.0000000000000\n",
      "185.166666666667\n",
      "2.48184262210803\n",
      "89.2719780160000\n",
      "0.300000000000000\n",
      "259.233333333333\n",
      "0.0181573778919683\n",
      "8383.91979864763\n",
      "\n",
      "Case conc: 0.500000\n",
      "[100 - 2.5*a, 72.7 - 0.5*b, -c*d + 202.0, -e*f - g*h + 195.94, -c - g + 2.5, e - 0.5, d/h - 0.010648, 1.4*b - f]\n",
      "[{a: 40.0000000000000, b: 145.400000000000, c: 2.48765267535296, d: 81.2010462720000, e: 0.500000000000000, f: 203.560000000000, g: 0.0123473246470437, h: 7625.94348910594}]\n",
      "40.0000000000000\n",
      "145.400000000000\n",
      "2.48765267535296\n",
      "81.2010462720000\n",
      "0.500000000000000\n",
      "203.560000000000\n",
      "0.0123473246470437\n",
      "7625.94348910594\n",
      "\n",
      "Case conc: 1.500000\n",
      "[47.86 - 2.5*a, 100 - 1.5*b, -c*d + 77.33385, -e*f - g*h + 187.0, -c - g + 2.5, e - 1.5, d/h - 0.010648, 1.4*b - f]\n",
      "[{a: 19.1440000000000, b: 66.6666666666667, c: 2.48392559702402, d: 31.1337224000000, e: 1.50000000000000, f: 93.3333333333333, g: 0.0160744029759834, h: 2923.90330578512}]\n",
      "19.1440000000000\n",
      "66.6666666666667\n",
      "2.48392559702402\n",
      "31.1337224000000\n",
      "1.50000000000000\n",
      "93.3333333333333\n",
      "0.0160744029759834\n",
      "2923.90330578512\n",
      "\n",
      "Case conc: 2.500000\n",
      "[15.24 - 2.5*a, 100 - 2.5*b, -c*d + 26.75874, -e*f - g*h + 178.0, -c - g + 2.5, e - 2.5, d/h - 0.010648, 1.4*b - f]\n",
      "[{a: 6.09600000000000, b: 40.0000000000000, c: 2.46276013530577, d: 10.8653456000000, e: 2.50000000000000, f: 56.0000000000000, g: 0.0372398646942256, h: 1020.41187077385}]\n",
      "6.09600000000000\n",
      "40.0000000000000\n",
      "2.46276013530577\n",
      "10.8653456000000\n",
      "2.50000000000000\n",
      "56.0000000000000\n",
      "0.0372398646942256\n",
      "1020.41187077385\n",
      "\n"
     ]
    }
   ],
   "source": [
    "from sympy import solve, Poly, Eq, Matrix, Symbol\n",
    "from sympy.abc import x, y, z, a, b, c, d, e, f, g, h\n",
    "\n",
    "# relative count rate at 2 h compared to 0 h\n",
    "\n",
    "data = [\n",
    "    (0.3, 0.5, 1.5, 2.5), # conc list\n",
    "    (100, 100, 47.86, 18.24), # Intensity of 10 nm at 0 h\n",
    "    (55.55, 72.7, 100, 100), # Intensity of 100nm at 0 h\n",
    "    (96.33, 100, 41.355, 18.033), # Intensity of 10nm at 2 h\n",
    "    (100, 97, 100, 100),  # Intensity of 100nm at 2 h\n",
    "    (2.30, 2.02, 1.87, 1.78) # Count rate ratio compared 0 h to 2 h\n",
    "]\n",
    "\n",
    "# data by data\n",
    "# conc = 0 # Please note conc list\n",
    "RP = 3 # Rayleigh Assumption of Power Constant\n",
    "Polymer2h_ratio = 1.4 # PNIPAM-PEG count rate ratio between 0 h and 2 h\n",
    "\n",
    "for conc in range(0,4):\n",
    "    print(\"Case conc: %f\" %(data[0][conc]))\n",
    "\n",
    "    eq_01 = (data[1][conc] - 2.5 * a) # a = optical coef. of IgG at 0 h\n",
    "    eq_02 = (data[2][conc] - data[0][conc] * b) # b = optical coef. of Polymer at 0 h\n",
    "    eq_03 = (data[3][conc] * data[5][conc] - c * d) # c = wt. conc. of Non-aggregated IgG at 2 h # d = optical coef. of Non-aggregated IgG\n",
    "    eq_04 = (data[4][conc] * data[5][conc] - e * f - g * h) # e = wt. conc of Polymer at 2 h # f = optical coef. of Poylmer at 2 h # g = optical coef. of Aggregated IgG at 2h # h = actvity of Aggregated IgG at 2h\n",
    "    eq_05 = (2.5 - c - g)\n",
    "    eq_06 = (e - data[0][conc])\n",
    "    eq_07 = (d / h - 11**RP/50**RP)\n",
    "    # eq_08 = (b / a - f / d)\n",
    "    eq_08 = (Polymer2h_ratio * b - f)\n",
    "\n",
    "    # a = optical coef. of IgG at 0 h\n",
    "    # b = optical coef. of Polymer at 0 h\n",
    "    # c = wt. conc. of Non-aggregated IgG at 2 h \n",
    "    # d = optical coef. of Non-aggregated IgG\n",
    "    # e = wt. conc. of Polymer at 2 h \n",
    "    # f = optical coef. of Poylmer at 2 h \n",
    "    # g = wt. conc. of Aggregated IgG at 2h \n",
    "    # h = optical coef. of Aggregated IgG at 2h\n",
    "\n",
    "    eqs = [eq_01, eq_02, eq_03, eq_04, eq_05, eq_06, eq_07, eq_08]\n",
    "    print(eqs)\n",
    "\n",
    "    answer = solve(eqs, dict=True, set=True, simplify=True)\n",
    "    print(answer)\n",
    "    print(answer[0][a])\n",
    "    print(answer[0][b])\n",
    "    print(answer[0][c])\n",
    "    print(answer[0][d])\n",
    "    print(answer[0][e])\n",
    "    print(answer[0][f])\n",
    "    print(answer[0][g])\n",
    "    print(answer[0][h])\n",
    "    print(\"\")\n"
   ]
  },
  {
   "cell_type": "code",
   "execution_count": 5,
   "id": "e3556ab8",
   "metadata": {},
   "outputs": [
    {
     "name": "stdout",
     "output_type": "stream",
     "text": [
      "0\n",
      "1\n",
      "2\n"
     ]
    }
   ],
   "source": [
    "\n",
    "for conc in range(0,3):\n",
    "    print(conc)"
   ]
  },
  {
   "cell_type": "code",
   "execution_count": null,
   "id": "42ee15f0",
   "metadata": {},
   "outputs": [],
   "source": []
  }
 ],
 "metadata": {
  "kernelspec": {
   "display_name": "Python 3 (ipykernel)",
   "language": "python",
   "name": "python3"
  },
  "language_info": {
   "codemirror_mode": {
    "name": "ipython",
    "version": 3
   },
   "file_extension": ".py",
   "mimetype": "text/x-python",
   "name": "python",
   "nbconvert_exporter": "python",
   "pygments_lexer": "ipython3",
   "version": "3.10.9"
  },
  "varInspector": {
   "cols": {
    "lenName": 16,
    "lenType": 16,
    "lenVar": 40
   },
   "kernels_config": {
    "python": {
     "delete_cmd_postfix": "",
     "delete_cmd_prefix": "del ",
     "library": "var_list.py",
     "varRefreshCmd": "print(var_dic_list())"
    },
    "r": {
     "delete_cmd_postfix": ") ",
     "delete_cmd_prefix": "rm(",
     "library": "var_list.r",
     "varRefreshCmd": "cat(var_dic_list()) "
    }
   },
   "types_to_exclude": [
    "module",
    "function",
    "builtin_function_or_method",
    "instance",
    "_Feature"
   ],
   "window_display": false
  }
 },
 "nbformat": 4,
 "nbformat_minor": 5
}
