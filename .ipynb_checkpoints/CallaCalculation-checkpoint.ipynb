{
 "cells": [
  {
   "cell_type": "markdown",
   "id": "6bf512a5",
   "metadata": {},
   "source": [
    "# Explanation\n",
    "\n",
    "<span style=\"color:#92fade\">\n",
    "$\\Pi\\equiv\\gamma_0-\\gamma$\n",
    "<br>$\\varphi_\\text{w,ENP}$ is the volume fraction of water in the water/organic cosolvent (acetone) mixture in which equilibrium block <br>copolymer micelles were initially formed during the equilibration−nanoprecipitation (ENP) formulation process. \n",
    "<br>$D_\\text{c}$ is the mean diameter of the hydrophobic core domains of the block copolymer micelles (determined by dry-state TEM). \n",
    "$D_\\text{h}$ is the mean hydrodynamic diameter of the block copolymer micelles.\n",
    "</span>\n",
    "<span style=\"color:#aa60aa\">\n",
    "<br>$p$ is ther aggregation number. $p = (\\pi D_\\text{c}^3/6)/(M_\\text{n,core}/(N_\\text{A}\\rho_\\text{core}))$ \n",
    "<br>$p = (\\pi D_\\text{c}^3/6)\\cdot\\cfrac{N_\\text{A}\\rho_\\text{core}}{M_\\text{n,core}}$ \n",
    "<br>$\\sigma_\\text{PEG}$ is the dimensionless PEG grafting density. $\\sigma_\\text{PEG}\\equiv pR_\\text{g,PEG}^2/D_\\text{c}^2$\n",
    "<br>\n",
    "    <br>$a_\\text{h}=\\pi R_\\text{h}^2$ is the the micelle hydrodynamic cross-sectional area.\n",
    "<br>$N=cVN_\\text{A}/pM_\\text{n}$ $N=\\cfrac{cVN_\\text{A}}{pM_\\text{n}} $ $N$ is total number of micelles spread.\n",
    "<br>$c$ (= 5 mg/mL) is the concentration of the polymer (micelles) in the spreading solution\n",
    "<br>$V$ is the volume of the micelle solution spread.\n",
    "<br>$a_\\text{m}$ is surface area per micelle. $a_\\text{m}=A/N$\n",
    "    \n",
    "\n",
    "    \n",
    "</span>"
   ]
  },
  {
   "cell_type": "code",
   "execution_count": null,
   "id": "6e121264",
   "metadata": {},
   "outputs": [],
   "source": [
    "\n",
    "\n",
    "\n",
    "\n"
   ]
  },
  {
   "cell_type": "code",
   "execution_count": null,
   "id": "2b3d452f",
   "metadata": {},
   "outputs": [],
   "source": []
  }
 ],
 "metadata": {
  "kernelspec": {
   "display_name": "Python 3 (ipykernel)",
   "language": "python",
   "name": "python3"
  },
  "language_info": {
   "codemirror_mode": {
    "name": "ipython",
    "version": 3
   },
   "file_extension": ".py",
   "mimetype": "text/x-python",
   "name": "python",
   "nbconvert_exporter": "python",
   "pygments_lexer": "ipython3",
   "version": "3.10.9"
  },
  "varInspector": {
   "cols": {
    "lenName": 16,
    "lenType": 16,
    "lenVar": 40
   },
   "kernels_config": {
    "python": {
     "delete_cmd_postfix": "",
     "delete_cmd_prefix": "del ",
     "library": "var_list.py",
     "varRefreshCmd": "print(var_dic_list())"
    },
    "r": {
     "delete_cmd_postfix": ") ",
     "delete_cmd_prefix": "rm(",
     "library": "var_list.r",
     "varRefreshCmd": "cat(var_dic_list()) "
    }
   },
   "types_to_exclude": [
    "module",
    "function",
    "builtin_function_or_method",
    "instance",
    "_Feature"
   ],
   "window_display": false
  }
 },
 "nbformat": 4,
 "nbformat_minor": 5
}
