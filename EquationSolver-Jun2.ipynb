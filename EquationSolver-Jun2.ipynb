{
 "cells": [
  {
   "cell_type": "code",
   "execution_count": 1,
   "id": "ee357cf6",
   "metadata": {},
   "outputs": [
    {
     "data": {
      "text/plain": [
       "[-1, 1]"
      ]
     },
     "execution_count": 1,
     "metadata": {},
     "output_type": "execute_result"
    }
   ],
   "source": [
    "from sympy.solvers import solve\n",
    "from sympy import Symbol\n",
    "\n",
    "\n",
    "\n",
    "\n",
    "x = Symbol('x')\n",
    "solve(x**2 - 1, x)"
   ]
  },
  {
   "cell_type": "code",
   "execution_count": 36,
   "id": "e801be67",
   "metadata": {},
   "outputs": [
    {
     "name": "stdout",
     "output_type": "stream",
     "text": [
      "[15.84 - 2.5*a, 100 - 2.5*b, -c*d + 25.33474, -e*f - g*h + 178.0, -c - g + 2.5, e - 2.5, d/h - 0.010648, -f/d + b/a]\n",
      "[{a: 6.33600000000000, b: 40.0000000000000, c: 2.48234613619097, d: 10.2059658927642, e: 2.50000000000000, f: 64.4316028583598, g: 0.0176538638090299, h: 958.486654091302}]\n",
      "6.33600000000000\n",
      "40.0000000000000\n",
      "2.48234613619097\n",
      "10.2059658927642\n",
      "2.50000000000000\n",
      "64.4316028583598\n",
      "0.0176538638090299\n",
      "958.486654091302\n"
     ]
    }
   ],
   "source": [
    "from sympy import solve, Poly, Eq, Matrix, Symbol\n",
    "from sympy.abc import x, y, z, a, b, c, d, e, f, g, h\n",
    "\n",
    "# relative count rate at 2 h compared to 0 h\n",
    "\n",
    "data = [\n",
    "    (0.3, 0.5, 1.5, 2.5), # conc list\n",
    "    (100, 100, 47.86, 15.84), # Intensity of 10 nm at 0 h\n",
    "    (55.55, 72.7, 100, 100), # Intensity of 100nm at 0 h\n",
    "    (96.33, 100, 41.355, 14.233), # Intensity of 10nm at 2 h\n",
    "    (100, 97, 100, 100),  # Intensity of 100nm at 2 h\n",
    "    (2.30, 2.02, 1.87, 1.78) # Count rate ratio compared 0 h to 2 h\n",
    "]\n",
    "\n",
    "# data by data\n",
    "conc = 3 # Please note conc list\n",
    "RP = 3 # Rayleigh Assumption of Power Constant\n",
    "\n",
    "eq_01 = (data[1][conc] - 2.5 * a) # a = optical coef. of IgG at 0 h\n",
    "eq_02 = (data[2][conc] - data[0][conc] * b) # b = optical coef. of Polymer at 0 h\n",
    "eq_03 = (data[3][conc] * data[5][conc] - c * d) # c = wt. conc. of Non-aggregated IgG at 2 h # d = optical coef. of Non-aggregated IgG\n",
    "eq_04 = (data[4][conc] * data[5][conc] - e * f - g * h) # e = wt. conc of Polymer at 2 h # f = optical coef. of Poylmer at 2 h # g = optical coef. of Aggregated IgG at 2h # h = actvity of Aggregated IgG at 2h\n",
    "eq_05 = (2.5 - c - g)\n",
    "eq_06 = (e - data[0][conc])\n",
    "eq_07 = (d / h - 11**RP/50**RP)\n",
    "eq_08 = (b / a - f / d)\n",
    "\n",
    "# a = optical coef. of IgG at 0 h\n",
    "# b = optical coef. of Polymer at 0 h\n",
    "# c = wt. conc. of Non-aggregated IgG at 2 h \n",
    "# d = optical coef. of Non-aggregated IgG\n",
    "# e = wt. conc. of Polymer at 2 h \n",
    "# f = optical coef. of Poylmer at 2 h \n",
    "# g = wt. conc. of Aggregated IgG at 2h \n",
    "# h = optical coef. of Aggregated IgG at 2h\n",
    "\n",
    "eqs = [eq_01, eq_02, eq_03, eq_04, eq_05, eq_06, eq_07, eq_08]\n",
    "print(eqs)\n",
    "\n",
    "answer = solve(eqs, dict=True, set=True, simplify=True)\n",
    "print(answer)\n",
    "print(answer[0][a])\n",
    "print(answer[0][b])\n",
    "print(answer[0][c])\n",
    "print(answer[0][d])\n",
    "print(answer[0][e])\n",
    "print(answer[0][f])\n",
    "print(answer[0][g])\n",
    "print(answer[0][h])\n",
    "\n"
   ]
  },
  {
   "cell_type": "code",
   "execution_count": null,
   "id": "ef215f77",
   "metadata": {},
   "outputs": [],
   "source": [
    "# solve([300 - 2.5 * a, 200 - 2.5 * b, 500 - c * d, 400 - e * f + g * h, 2.5 - c - g, e - 2.5, d / f - 27, a / b - c / e])\n"
   ]
  },
  {
   "cell_type": "code",
   "execution_count": 49,
   "id": "2eea073d",
   "metadata": {},
   "outputs": [
    {
     "name": "stdout",
     "output_type": "stream",
     "text": [
      "0.3\n"
     ]
    }
   ],
   "source": [
    "data = [\n",
    "    (0.3, 0.5, 1.5, 2.5), # conc list\n",
    "    (100, 100, 47.86, 15.84), # Intensity of 10 nm at 0 h\n",
    "    (55.55, 72.7, 100, 100), # Intensity of 100nm at 0 h\n",
    "    (55.55, 72.7, 100, 100) # Intensity of 100nm at 0 h\n",
    "    \n",
    "    \n",
    "    \n",
    "    \n",
    "    \n",
    "]\n",
    "print(data[0][0])"
   ]
  },
  {
   "cell_type": "code",
   "execution_count": null,
   "id": "27851dbf",
   "metadata": {},
   "outputs": [],
   "source": []
  },
  {
   "cell_type": "code",
   "execution_count": null,
   "id": "31ccf3c7",
   "metadata": {},
   "outputs": [],
   "source": []
  },
  {
   "cell_type": "code",
   "execution_count": null,
   "id": "26122184",
   "metadata": {},
   "outputs": [],
   "source": []
  },
  {
   "cell_type": "code",
   "execution_count": 30,
   "id": "01c2115b",
   "metadata": {},
   "outputs": [
    {
     "name": "stdout",
     "output_type": "stream",
     "text": [
      "[-a*b + 81.651, -c*d + 255.0, -a - c + 2.5, -93.9143501126972*b + d]\n",
      "[{a: 2.41954009091788, b: 33.7464960000000, c: 0.0804599090821163, d: 3169.28024042074}]\n",
      "2.41954009091788\n",
      "33.7464960000000\n",
      "0.0804599090821163\n",
      "3169.28024042074\n"
     ]
    }
   ],
   "source": [
    "# simple case for only IgG\n",
    "from sympy import solve, Poly, Eq, Matrix, Symbol\n",
    "from sympy.abc import x, y, z, a, b, c, d, e, f, g, h\n",
    "\n",
    "eq_01 = (32.02 * 2.55 - a * b) \n",
    "eq_02 = (100 * 2.55 - c * d) \n",
    "eq_03 = (2.5 - a - c) \n",
    "eq_04 = (d - 50**3/11**3 * b) \n",
    "\n",
    "# a = wt.conc of Nonaggregated IgG at 2 h\n",
    "# b = optical coef. of Nonaggregated IgG at 2 h\n",
    "# c = wt. conc. of Aggregated IgG at 2 h \n",
    "# d = optical coef. of Aggregated IgG at 2 h\n",
    "\n",
    "eqs = [eq_01, eq_02, eq_03, eq_04]\n",
    "print(eqs)\n",
    "\n",
    "answer = solve(eqs, dict=True, set=True, simplify=True)\n",
    "print(answer)\n",
    "print(answer[0][a])\n",
    "print(answer[0][b])\n",
    "print(answer[0][c])\n",
    "print(answer[0][d])"
   ]
  },
  {
   "cell_type": "code",
   "execution_count": null,
   "id": "cde2251d",
   "metadata": {},
   "outputs": [],
   "source": []
  },
  {
   "cell_type": "code",
   "execution_count": null,
   "id": "e8fc1480",
   "metadata": {},
   "outputs": [],
   "source": []
  },
  {
   "cell_type": "code",
   "execution_count": null,
   "id": "3d9049fb",
   "metadata": {},
   "outputs": [],
   "source": [
    "from sympy import solve, Poly, Eq, Matrix, Symbol\n",
    "from sympy.abc import x, y, z, a, b, c, d, e, f, g, h\n",
    "\n",
    "# relative count rate at 2 h compared to 0 h\n",
    "\n",
    "data = [\n",
    "    (0.3, 0.5, 1.5, 2.5), # conc list\n",
    "    (100, 100, 47.86, 15.84), # Intensity of 10 nm at 0 h\n",
    "    (55.55, 72.7, 100, 100), # Intensity of 100nm at 0 h\n",
    "    (14.23, 41.355, 100, 96.33), # Intensity of 10nm at 2 h\n",
    "    (100, 100, 97, 100),  # Intensity of 100nm at 2 h\n",
    "    (2.30, 2.02, 1.87, 1.78) # Count rate ratio compared 0 h to 2 h\n",
    "]\n",
    "\n",
    "\n",
    "Amp = 2.3\n",
    "Pconc = 0.3\n",
    "    # 2.30 for 0.3 mg/ml Polymer\n",
    "    # 2.02 for 0.5 mg/ml\n",
    "    # 1.87 for 1.5 mg/ml\n",
    "    # 1.78 for 2.5 mg/ml\n",
    "\n",
    "\n",
    "eq_01 = (100- 2.5 * a) # a = optical coef. of IgG at 0 h\n",
    "eq_02 = (55.55 - Pconc * b) # b = optical coef. of Polymer at 0 h\n",
    "eq_03 = (96.33 * Amp - c * d) # c = wt. conc. of Non-aggregated IgG at 2 h # d = optical coef. of Non-aggregated IgG\n",
    "eq_04 = (100 * Amp - e * f - g * h) # e = wt. conc of Polymer at 2 h # f = optical coef. of Poylmer at 2 h # g = optical coef. of Aggregated IgG at 2h # h = actvity of Aggregated IgG at 2h\n",
    "eq_05 = (2.5 - c - g)\n",
    "eq_06 = (e - Pconc)\n",
    "eq_07 = (d / f - 50**3/11**3)\n",
    "eq_08 = (a / b - c / e)\n",
    "\n",
    "# a = optical coef. of IgG at 0 h\n",
    "# b = optical coef. of Polymer at 0 h\n",
    "# c = wt. conc. of Non-aggregated IgG at 2 h \n",
    "# d = optical coef. of Non-aggregated IgG\n",
    "# e = wt. conc. of Polymer at 2 h \n",
    "# f = optical coef. of Poylmer at 2 h \n",
    "# g = wt. conc. of Aggregated IgG at 2h \n",
    "# h = optical coef. of Aggregated IgG at 2h\n",
    "\n",
    "eqs = [eq_01, eq_02, eq_03, eq_04, eq_05, eq_06, eq_07, eq_08]\n",
    "print(eqs)\n",
    "\n",
    "answer = solve(eqs, dict=True, set=True, simplify=True)\n",
    "print(answer)\n",
    "print(answer[0][a])\n",
    "print(answer[0][b])\n",
    "print(answer[0][c])\n",
    "print(answer[0][d])\n",
    "print(answer[0][e])\n",
    "print(answer[0][f])\n",
    "print(answer[0][g])\n",
    "print(answer[0][h])\n",
    "\n"
   ]
  },
  {
   "cell_type": "code",
   "execution_count": null,
   "id": "535b4565",
   "metadata": {},
   "outputs": [],
   "source": [
    "\"\"\"\n",
    "for items in answer:\n",
    "    for item in items:\n",
    "        print(item)\n",
    "        print(\"\\n\")\n",
    "\"\"\""
   ]
  },
  {
   "cell_type": "code",
   "execution_count": null,
   "id": "f04e5778",
   "metadata": {},
   "outputs": [],
   "source": [
    "from sympy import solve, Poly, Eq, Matrix, Symbol\n",
    "from sympy.abc import x, y, z, a, b, c, d, e, f, g, h\n",
    "\n",
    "#solve([x + y - 3, y**2 + x - 1])\n",
    "\n",
    "# relative count rate at 2 h compared to 0 h\n",
    "Amp = 1.78\n",
    "    # 2.30 for 0.3 mg/ml Polymer\n",
    "    # 2.02 for 0.5 mg/ml\n",
    "    # 1.87 for 1.5 mg/ml\n",
    "    # 1.78 for 2.5 mg/ml\n",
    "\n",
    "\n",
    "eq_01 = (15.8 - 2.5 * a) # a = activity of IgG at 0 h\n",
    "eq_02 = (100 - 2.5 * b) # b = activity of Polymer at 0 h\n",
    "eq_03 = (14.2 * Amp - c * d) # c = wt. conc. of Non-aggregated IgG at 2 h # d = activity of Non-aggregated IgG\n",
    "eq_04 = (100 * Amp - e * f + g * h) # e = wt. conc of Polymer at 2 h # f = activity of Poylmer at 2 h # g = activity of Aggregated IgG at 2h # h = actvity of Aggregated IgG at 2h\n",
    "eq_05 = (2.5 - c - g)\n",
    "eq_06 = (e - 2.5)\n",
    "eq_07 = (d / f - 50**3/11**3)\n",
    "eq_08 = (a / b - c / e)\n",
    "\n",
    "# a = activity of IgG at 0 h\n",
    "# b = activity of Polymer at 0 h\n",
    "# c = wt. conc. of Non-aggregated IgG at 2 h \n",
    "# d = activity of Non-aggregated IgG\n",
    "# e = wt. conc. of Polymer at 2 h \n",
    "# f = activity of Poylmer at 2 h \n",
    "# g = wt. conc. of Aggregated IgG at 2h \n",
    "# h = actvity of Aggregated IgG at 2h\n",
    "\n",
    "eqs = [eq_01, eq_02, eq_03, eq_04, eq_05, eq_06, eq_07, eq_08]\n",
    "print(eq)\n",
    "\n",
    "solve(eqs)\n",
    "# solve([300 - 2.5 * a, 200 - 2.5 * b, 500 - c * d, 400 - e * f + g * h, 2.5 - c - g, e - 2.5, d / f - 27, a / b - c / e])\n",
    "\n"
   ]
  }
 ],
 "metadata": {
  "kernelspec": {
   "display_name": "Python 3 (ipykernel)",
   "language": "python",
   "name": "python3"
  },
  "language_info": {
   "codemirror_mode": {
    "name": "ipython",
    "version": 3
   },
   "file_extension": ".py",
   "mimetype": "text/x-python",
   "name": "python",
   "nbconvert_exporter": "python",
   "pygments_lexer": "ipython3",
   "version": "3.10.9"
  },
  "varInspector": {
   "cols": {
    "lenName": 16,
    "lenType": 16,
    "lenVar": 40
   },
   "kernels_config": {
    "python": {
     "delete_cmd_postfix": "",
     "delete_cmd_prefix": "del ",
     "library": "var_list.py",
     "varRefreshCmd": "print(var_dic_list())"
    },
    "r": {
     "delete_cmd_postfix": ") ",
     "delete_cmd_prefix": "rm(",
     "library": "var_list.r",
     "varRefreshCmd": "cat(var_dic_list()) "
    }
   },
   "types_to_exclude": [
    "module",
    "function",
    "builtin_function_or_method",
    "instance",
    "_Feature"
   ],
   "window_display": false
  }
 },
 "nbformat": 4,
 "nbformat_minor": 5
}
