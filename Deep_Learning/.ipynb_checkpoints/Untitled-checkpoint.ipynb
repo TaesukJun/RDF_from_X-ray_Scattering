{
 "cells": [
  {
   "cell_type": "code",
   "execution_count": 23,
   "id": "ed5850cb",
   "metadata": {
    "scrolled": false
   },
   "outputs": [
    {
     "name": "stdout",
     "output_type": "stream",
     "text": [
      "@@@@@@@@@@ Gen 341 best solutions @@@@@@@@@@@\n",
      "(2.3193271763772683, (0.25050723460894386, 0.4102441540802371, 2.3822135332288124))\n",
      "@@@@@@@@@@ Gen 342 best solutions @@@@@@@@@@@\n",
      "(264.34007152752736, (0.25104237212575387, 0.40604096608197077, 2.34174660341935))\n",
      "@@@@@@@@@@ Gen 343 best solutions @@@@@@@@@@@\n",
      "(16309.970785852338, (0.24006282571854762, 0.41406785519489686, 2.3373982459079157))\n"
     ]
    }
   ],
   "source": [
    "import random\n",
    "from IPython.display import clear_output\n",
    "\n",
    "\n",
    "# Simple Genetic Algorithm\n",
    "\n",
    "\n",
    "\n",
    "# Example Equation\n",
    "def foo(x,y,z):\n",
    "    return 6 * x**3 + 9 * y**2 + 10 * z - 25\n",
    "\n",
    "\n",
    "def fitness(x, y, z):\n",
    "    ans = foo(x,y,z)\n",
    "    if ans == 0:\n",
    "        return 999999\n",
    "    else:\n",
    "        return abs(1/ans)\n",
    "\n",
    "    \n",
    "search_range = [0,10000]\n",
    "Gen_diff = 0.02\n",
    "    \n",
    "# Generate Solutions\n",
    "solutions = []\n",
    "for s in range(1000):\n",
    "    solutions.append((random.uniform(search_range[0],search_range[1]),\n",
    "                      random.uniform(search_range[0],search_range[1]),\n",
    "                      random.uniform(search_range[0],search_range[1]),\n",
    "                    ))\n",
    "                    \n",
    "results_show = 20\n",
    "for i in range(10000):\n",
    "    \n",
    "    \n",
    "    ranked_solutions = []\n",
    "    for s in solutions:\n",
    "        ranked_solutions.append((fitness(s[0],s[1],s[2]),s))\n",
    "        ranked_solutions.sort()\n",
    "        ranked_solutions.reverse()\n",
    "    print(f\"@@@@@@@@@@ Gen {i} best solutions @@@@@@@@@@@\")\n",
    "    print(ranked_solutions[0])\n",
    "    \n",
    "    if ranked_solutions[0][0] > 9999:\n",
    "        break\n",
    "    if i % results_show == 0:\n",
    "        clear_output(wait=True)\n",
    "    \n",
    "    best_solutions = ranked_solutions[:100]\n",
    "    elements_x = []\n",
    "    elements_y = []\n",
    "    elements_z = []\n",
    "    for s in best_solutions:\n",
    "        elements_x.append(s[1][0])\n",
    "        elements_y.append(s[1][1])\n",
    "        elements_z.append(s[1][2])\n",
    "        \n",
    "    new_Gen = []\n",
    "    for _ in range(1000):\n",
    "        e1 = random.choice(elements_x) * random.uniform(1-Gen_diff,1+Gen_diff)\n",
    "        e2 = random.choice(elements_y) * random.uniform(1-Gen_diff,1+Gen_diff)\n",
    "        e3 = random.choice(elements_z) * random.uniform(1-Gen_diff,1+Gen_diff)\n",
    "        new_Gen.append((e1,e2,e3))\n",
    "    solutions = new_Gen\n",
    "        "
   ]
  },
  {
   "cell_type": "code",
   "execution_count": 17,
   "id": "0fccaa01",
   "metadata": {},
   "outputs": [
    {
     "name": "stdout",
     "output_type": "stream",
     "text": [
      "2\n"
     ]
    }
   ],
   "source": [
    "print(20%3)"
   ]
  },
  {
   "cell_type": "code",
   "execution_count": 6,
   "id": "e0b6f6c9",
   "metadata": {},
   "outputs": [
    {
     "name": "stdout",
     "output_type": "stream",
     "text": [
      "key\n"
     ]
    }
   ],
   "source": [
    "from IPython.display import clear_output\n",
    "print('124151412412')\n",
    "clear_output(wait=True)\n",
    "print('key')"
   ]
  },
  {
   "cell_type": "code",
   "execution_count": null,
   "id": "3e4fb2e9",
   "metadata": {},
   "outputs": [],
   "source": []
  }
 ],
 "metadata": {
  "kernelspec": {
   "display_name": "Python 3 (ipykernel)",
   "language": "python",
   "name": "python3"
  },
  "language_info": {
   "codemirror_mode": {
    "name": "ipython",
    "version": 3
   },
   "file_extension": ".py",
   "mimetype": "text/x-python",
   "name": "python",
   "nbconvert_exporter": "python",
   "pygments_lexer": "ipython3",
   "version": "3.10.9"
  },
  "varInspector": {
   "cols": {
    "lenName": 16,
    "lenType": 16,
    "lenVar": 40
   },
   "kernels_config": {
    "python": {
     "delete_cmd_postfix": "",
     "delete_cmd_prefix": "del ",
     "library": "var_list.py",
     "varRefreshCmd": "print(var_dic_list())"
    },
    "r": {
     "delete_cmd_postfix": ") ",
     "delete_cmd_prefix": "rm(",
     "library": "var_list.r",
     "varRefreshCmd": "cat(var_dic_list()) "
    }
   },
   "types_to_exclude": [
    "module",
    "function",
    "builtin_function_or_method",
    "instance",
    "_Feature"
   ],
   "window_display": false
  }
 },
 "nbformat": 4,
 "nbformat_minor": 5
}
